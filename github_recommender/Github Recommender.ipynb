{
 "cells": [
  {
   "cell_type": "code",
   "execution_count": 1,
   "metadata": {},
   "outputs": [],
   "source": [
    "user = \"ahangarha\"\n",
    "token = \"\" # TODO Revoke access later\n",
    "load_from_file = True"
   ]
  },
  {
   "cell_type": "code",
   "execution_count": 2,
   "metadata": {},
   "outputs": [],
   "source": [
    "import requests"
   ]
  },
  {
   "cell_type": "code",
   "execution_count": 3,
   "metadata": {},
   "outputs": [],
   "source": [
    "followers = requests.get(\"https://api.github.com/users/\"+user+\"/following?per_page=100&access_token=\"+token).json()"
   ]
  },
  {
   "cell_type": "code",
   "execution_count": 4,
   "metadata": {
    "scrolled": false
   },
   "outputs": [
    {
     "name": "stdout",
     "output_type": "stream",
     "text": [
      "{'login': 'Mottie', 'id': 136959, 'node_id': 'MDQ6VXNlcjEzNjk1OQ==', 'avatar_url': 'https://avatars2.githubusercontent.com/u/136959?v=4', 'gravatar_id': '', 'url': 'https://api.github.com/users/Mottie', 'html_url': 'https://github.com/Mottie', 'followers_url': 'https://api.github.com/users/Mottie/followers', 'following_url': 'https://api.github.com/users/Mottie/following{/other_user}', 'gists_url': 'https://api.github.com/users/Mottie/gists{/gist_id}', 'starred_url': 'https://api.github.com/users/Mottie/starred{/owner}{/repo}', 'subscriptions_url': 'https://api.github.com/users/Mottie/subscriptions', 'organizations_url': 'https://api.github.com/users/Mottie/orgs', 'repos_url': 'https://api.github.com/users/Mottie/repos', 'events_url': 'https://api.github.com/users/Mottie/events{/privacy}', 'received_events_url': 'https://api.github.com/users/Mottie/received_events', 'type': 'User', 'site_admin': False}\n"
     ]
    }
   ],
   "source": [
    "print(followers[0])"
   ]
  },
  {
   "cell_type": "code",
   "execution_count": 5,
   "metadata": {},
   "outputs": [],
   "source": [
    "def starred(username):\n",
    "    i = 1\n",
    "    s = requests.get(\"https://api.github.com/users/\"+username+\"/starred?per_page=100&page=\"+str(i)+\"&access_token=\" + token).json()\n",
    "    ans = s\n",
    "    while len(s) == 100:\n",
    "        print(\"Got page \" + str(i) + \" For \" + username)\n",
    "        i += 1\n",
    "        s = requests.get(\"https://api.github.com/users/\"+username+\"/starred?per_page=100&page=\"+str(i)+\"&access_token=\"+ token).json()\n",
    "        ans = ans + s\n",
    "        \n",
    "    return ans"
   ]
  },
  {
   "cell_type": "code",
   "execution_count": 6,
   "metadata": {},
   "outputs": [
    {
     "name": "stdout",
     "output_type": "stream",
     "text": [
      "Got page 1 For ahangarha\n",
      "Got page 2 For ahangarha\n",
      "Got page 3 For ahangarha\n",
      "Got page 4 For ahangarha\n"
     ]
    }
   ],
   "source": [
    "s = starred(user)"
   ]
  },
  {
   "cell_type": "code",
   "execution_count": 7,
   "metadata": {},
   "outputs": [
    {
     "name": "stdout",
     "output_type": "stream",
     "text": [
      "59\n"
     ]
    }
   ],
   "source": [
    "stars = {}\n",
    "total_f = str(len(followers))\n",
    "print(total_f)"
   ]
  },
  {
   "cell_type": "code",
   "execution_count": 8,
   "metadata": {},
   "outputs": [],
   "source": [
    "if load_from_file:\n",
    "    import pickle\n",
    "    with open('stars.pkl', 'rb') as f:\n",
    "        stars = pickle.load(f)"
   ]
  },
  {
   "cell_type": "code",
   "execution_count": 9,
   "metadata": {},
   "outputs": [
    {
     "name": "stdout",
     "output_type": "stream",
     "text": [
      "Already got stars of Mottie (0/59)\n",
      "Already got stars of zoghal (1/59)\n",
      "Already got stars of ilius (2/59)\n",
      "Already got stars of hooshmand (3/59)\n",
      "Already got stars of arastu (4/59)\n",
      "Already got stars of PopovMP (5/59)\n",
      "Already got stars of saderi (6/59)\n",
      "Already got stars of masihyeganeh (7/59)\n",
      "Already got stars of smmsadrnezh (8/59)\n",
      "Already got stars of sallar (9/59)\n",
      "Already got stars of ebraminio (10/59)\n",
      "Already got stars of askmike (11/59)\n",
      "Already got stars of torvalds (12/59)\n",
      "Already got stars of TedGoas (13/59)\n",
      "Already got stars of friendica (14/59)\n",
      "Already got stars of ranaroussi (15/59)\n",
      "Already got stars of smoqadam (16/59)\n",
      "Already got stars of jadijadi (17/59)\n",
      "Already got stars of dingmaotu (18/59)\n",
      "Already got stars of rezakamalifard (19/59)\n",
      "Already got stars of numb95 (20/59)\n",
      "Already got stars of erfannoury (21/59)\n",
      "Already got stars of moeenz (22/59)\n",
      "Already got stars of par6n (23/59)\n",
      "Already got stars of mehdy (24/59)\n",
      "Already got stars of senaps (25/59)\n",
      "Already got stars of dariubs (26/59)\n",
      "Already got stars of mehdisadeghi (27/59)\n",
      "Already got stars of rastikerdar (28/59)\n",
      "Already got stars of danialbehzadi (29/59)\n",
      "Already got stars of rivafarabi (30/59)\n",
      "Already got stars of ShalbafZadeh (31/59)\n",
      "Already got stars of kamranahmedse (32/59)\n",
      "Already got stars of amin3mej (33/59)\n",
      "Already got stars of 183amir (34/59)\n",
      "Already got stars of MCSH (35/59)\n",
      "Already got stars of Sentdex (36/59)\n",
      "Already got stars of OpenTrading (37/59)\n",
      "Already got stars of alireza-amirsamimi (38/59)\n",
      "Already got stars of nainemom (39/59)\n",
      "Already got stars of b00f (40/59)\n",
      "Already got stars of yeenghelabi (41/59)\n",
      "Already got stars of saeedalijani (42/59)\n",
      "Already got stars of masihtehrani (43/59)\n",
      "Already got stars of mosajjal (44/59)\n",
      "Already got stars of terrylinooo (45/59)\n",
      "Already got stars of rosasurfer (46/59)\n",
      "Already got stars of DerkWehler (47/59)\n",
      "Already got stars of TheYahya (48/59)\n",
      "Already got stars of moeen (49/59)\n",
      "Already got stars of Mr0Null (50/59)\n",
      "Already got stars of ehsanheydariyk (51/59)\n",
      "Already got stars of 01sadra (52/59)\n",
      "Already got stars of federico-terzi (53/59)\n",
      "Already got stars of shervinmo (54/59)\n",
      "Already got stars of Sanix-Darker (55/59)\n",
      "Already got stars of aminabedi68 (56/59)\n",
      "Already got stars of narbehaj (57/59)\n",
      "Already got stars of samchaaa (58/59)\n"
     ]
    }
   ],
   "source": [
    "for i, u in enumerate(followers):\n",
    "    login = u['login']\n",
    "    if login in stars:\n",
    "        print(\"Already got stars of \" + login + \" (\" + str(i) + \"/\" + total_f +\")\")    \n",
    "        continue\n",
    "    print(\"Getting stars of \" + login + \" (\" + str(i) + \"/\" + total_f +\")\")\n",
    "    stars[login] = starred(login)"
   ]
  },
  {
   "cell_type": "code",
   "execution_count": null,
   "metadata": {},
   "outputs": [],
   "source": [
    "# Save stars to disk\n",
    "import pickle\n",
    "with open('stars.pkl', 'wb') as f:\n",
    "    pickle.dump(stars, f, 0)"
   ]
  },
  {
   "cell_type": "code",
   "execution_count": 10,
   "metadata": {},
   "outputs": [],
   "source": [
    "langs = {}\n",
    "if load_from_file:\n",
    "    import pickle\n",
    "    with open('langs.pkl', 'rb') as f:\n",
    "        langs = pickle.load(f)"
   ]
  },
  {
   "cell_type": "code",
   "execution_count": 11,
   "metadata": {},
   "outputs": [
    {
     "name": "stdout",
     "output_type": "stream",
     "text": [
      "Getting 1 of 59\n",
      "Getting 2 of 59\n",
      "Getting 3 of 59\n",
      "Getting 4 of 59\n",
      "Getting 5 of 59\n",
      "Getting 6 of 59\n",
      "Getting 7 of 59\n",
      "Getting 8 of 59\n",
      "Getting 9 of 59\n",
      "Getting 10 of 59\n",
      "Getting 11 of 59\n",
      "Getting 12 of 59\n",
      "Getting 13 of 59\n",
      "Getting 14 of 59\n",
      "Getting 15 of 59\n",
      "Getting 16 of 59\n",
      "Getting 17 of 59\n",
      "Getting 18 of 59\n",
      "Getting 19 of 59\n",
      "Getting 20 of 59\n",
      "Getting 21 of 59\n",
      "Getting 22 of 59\n",
      "Getting 23 of 59\n",
      "Getting 24 of 59\n",
      "Getting 25 of 59\n",
      "Getting 26 of 59\n",
      "Getting 27 of 59\n",
      "Getting 28 of 59\n",
      "Getting 29 of 59\n",
      "Getting 30 of 59\n",
      "Getting 31 of 59\n",
      "Getting 32 of 59\n",
      "Getting 33 of 59\n",
      "Getting 34 of 59\n",
      "Getting 35 of 59\n",
      "Getting 36 of 59\n",
      "Getting 37 of 59\n",
      "Getting 38 of 59\n",
      "Getting 39 of 59\n",
      "Getting 40 of 59\n",
      "Getting 41 of 59\n",
      "Getting 42 of 59\n",
      "Getting 43 of 59\n",
      "Getting 44 of 59\n",
      "Getting 45 of 59\n",
      "Getting 46 of 59\n",
      "Getting 47 of 59\n",
      "Getting 48 of 59\n",
      "Getting 49 of 59\n",
      "Getting 50 of 59\n",
      "Getting 51 of 59\n",
      "Getting 52 of 59\n",
      "Getting 53 of 59\n",
      "Getting 54 of 59\n",
      "Getting 55 of 59\n",
      "Getting 56 of 59\n",
      "Getting 57 of 59\n",
      "Getting 58 of 59\n",
      "Getting 59 of 59\n",
      "Getting 60 of 59\n",
      "Done!\n"
     ]
    }
   ],
   "source": [
    "for i,u in enumerate(stars):\n",
    "    print(\"Getting \" + str(i+1) + \" of \" + total_f)\n",
    "    for repo in stars[u]:\n",
    "        name = repo['full_name']\n",
    "#         print(\"Getting \" + name)\n",
    "        lurl = repo['languages_url']\n",
    "        if name not in langs:\n",
    "            r = requests.get(lurl + '?access_token=' + token).json()\n",
    "            if 'documentation_url' in r:\n",
    "                if r['documentation_url'] == \"https://developer.github.com/v3/#rate-limiting\":\n",
    "                    print(\"Rate limit!\")\n",
    "                    break\n",
    "            else:    \n",
    "                langs[name] = r\n",
    "#             print(\"Already got it\")\n",
    "    else:\n",
    "        continue\n",
    "    break\n",
    "else:\n",
    "    print(\"Done!\")"
   ]
  },
  {
   "cell_type": "code",
   "execution_count": 12,
   "metadata": {},
   "outputs": [],
   "source": [
    "# Save langs to disk\n",
    "import pickle\n",
    "with open('langs.pkl', 'wb') as f:\n",
    "    pickle.dump(langs, f, 0)"
   ]
  },
  {
   "cell_type": "code",
   "execution_count": 14,
   "metadata": {},
   "outputs": [],
   "source": [
    "p_count = {}\n",
    "\n",
    "# p_count['usernmae/project'] => How many of my followers starred this"
   ]
  },
  {
   "cell_type": "code",
   "execution_count": 18,
   "metadata": {},
   "outputs": [],
   "source": [
    "for i in stars:\n",
    "    for j in stars[i]:\n",
    "        full_name = j['full_name']\n",
    "        if full_name in p_count:\n",
    "            p_count[full_name] += 1\n",
    "        else:\n",
    "            p_count[full_name] = 1"
   ]
  },
  {
   "cell_type": "code",
   "execution_count": 51,
   "metadata": {},
   "outputs": [],
   "source": [
    "orderd_list = [(v,i) for i,v in p_count.items()]\n",
    "orderd_list.sort()\n",
    "orderd_list = orderd_list[::-1]"
   ]
  },
  {
   "cell_type": "code",
   "execution_count": 52,
   "metadata": {},
   "outputs": [],
   "source": [
    "def get_url(id):\n",
    "    return 'https://github.com/' + id"
   ]
  },
  {
   "cell_type": "code",
   "execution_count": 76,
   "metadata": {},
   "outputs": [
    {
     "name": "stdout",
     "output_type": "stream",
     "text": [
      "https://github.com/sindresorhus/awesome\n",
      "https://github.com/kamranahmedse/developer-roadmap\n",
      "https://github.com/Microsoft/vscode\n",
      "https://github.com/impress/impress.js\n",
      "https://github.com/ytdl-org/youtube-dl\n",
      "https://github.com/vuejs/vue\n",
      "https://github.com/torvalds/linux\n",
      "https://github.com/electron/electron\n",
      "https://github.com/danistefanovic/build-your-own-x\n",
      "https://github.com/sobhe/hazm\n",
      "3\n",
      "1\n"
     ]
    }
   ],
   "source": [
    "for i in orderd_list[0:10]:\n",
    "    print(get_url(i[1]))"
   ]
  },
  {
   "cell_type": "code",
   "execution_count": 67,
   "metadata": {},
   "outputs": [],
   "source": [
    "l_count = {}\n",
    "l2_count = {}\n",
    "for i,prj in langs.items():\n",
    "    for lang, count in prj.items():\n",
    "        if type(count)!=int:\n",
    "            continue\n",
    "        if lang in l_count:\n",
    "            l_count[lang] += count\n",
    "            l2_count[lang] +=1\n",
    "        else:\n",
    "            l_count[lang] = count\n",
    "            l2_count[lang] = 1"
   ]
  },
  {
   "cell_type": "code",
   "execution_count": 73,
   "metadata": {},
   "outputs": [],
   "source": [
    "ordered_lang = [(v,i) for i,v in l_count.items()]\n",
    "ordered_lang.sort()\n",
    "orderd_lang = ordered_lang[::-1]\n",
    "\n",
    "ordered_lang2 = [(v,i) for i,v in l2_count.items()]\n",
    "ordered_lang2.sort()\n",
    "ordered_lang2 = ordered_lang2[::-1]"
   ]
  },
  {
   "cell_type": "code",
   "execution_count": 66,
   "metadata": {},
   "outputs": [
    {
     "data": {
      "text/plain": [
       "[(3356365554, 'C++'),\n",
       " (3253645617, 'C'),\n",
       " (2047661337, 'Python'),\n",
       " (1981116137, 'JavaScript'),\n",
       " (1712933751, 'C#'),\n",
       " (1271399515, 'Jupyter Notebook'),\n",
       " (1189135991, 'Java'),\n",
       " (910546487, 'HTML'),\n",
       " (844046078, 'PHP'),\n",
       " (706411502, 'Go')]"
      ]
     },
     "execution_count": 66,
     "metadata": {},
     "output_type": "execute_result"
    }
   ],
   "source": [
    "orderd_lang[:10]"
   ]
  },
  {
   "cell_type": "code",
   "execution_count": 74,
   "metadata": {},
   "outputs": [
    {
     "data": {
      "text/plain": [
       "[(5098, 'JavaScript'),\n",
       " (3834, 'Shell'),\n",
       " (3675, 'Python'),\n",
       " (3542, 'HTML'),\n",
       " (3073, 'CSS'),\n",
       " (2032, 'Makefile'),\n",
       " (1493, 'C'),\n",
       " (1478, 'C++'),\n",
       " (1277, 'PHP'),\n",
       " (987, 'Go')]"
      ]
     },
     "execution_count": 74,
     "metadata": {},
     "output_type": "execute_result"
    }
   ],
   "source": [
    "ordered_lang2[:10]"
   ]
  }
 ],
 "metadata": {
  "kernelspec": {
   "display_name": "Python 3",
   "language": "python",
   "name": "python3"
  },
  "language_info": {
   "codemirror_mode": {
    "name": "ipython",
    "version": 3
   },
   "file_extension": ".py",
   "mimetype": "text/x-python",
   "name": "python",
   "nbconvert_exporter": "python",
   "pygments_lexer": "ipython3",
   "version": "3.6.6"
  }
 },
 "nbformat": 4,
 "nbformat_minor": 2
}
